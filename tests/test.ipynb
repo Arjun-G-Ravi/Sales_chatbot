{
 "cells": [
  {
   "cell_type": "code",
   "execution_count": 7,
   "metadata": {},
   "outputs": [
    {
     "data": {
      "text/plain": [
       "''"
      ]
     },
     "execution_count": 7,
     "metadata": {},
     "output_type": "execute_result"
    }
   ],
   "source": [
    "import fpdf\n",
    "\n",
    "# Create a PDF object\n",
    "pdf = fpdf.FPDF()\n",
    "\n",
    "# Add a page\n",
    "pdf.add_page()\n",
    "\n",
    "# Set the font\n",
    "pdf.set_font(\"Arial\", size=12)\n",
    "\n",
    "# Add the text data\n",
    "# text = \"Your long text here...\"\n",
    "pdf.multi_cell(0, 5, txt=text)\n",
    "\n",
    "# Save the PDF to a file\n",
    "pdf.output(\"output.pdf\", \"F\")"
   ]
  },
  {
   "cell_type": "code",
   "execution_count": 4,
   "metadata": {},
   "outputs": [
    {
     "data": {
      "text/plain": [
       "''"
      ]
     },
     "execution_count": 4,
     "metadata": {},
     "output_type": "execute_result"
    }
   ],
   "source": [
    "import fpdf\n",
    "\n",
    "# Create a PDF object\n",
    "pdf = fpdf.FPDF()\n",
    "\n",
    "# Add a page\n",
    "pdf.add_page()\n",
    "\n",
    "# Set the font\n",
    "pdf.set_font(\"Arial\", size=12)\n",
    "\n",
    "# Add the text data\n",
    "pdf.cell(0, 10, txt=text, ln=True)\n",
    "\n",
    "# Save the PDF to a file\n",
    "pdf.output(\"output.pdf\", \"F\")"
   ]
  },
  {
   "cell_type": "code",
   "execution_count": 8,
   "metadata": {},
   "outputs": [
    {
     "name": "stdout",
     "output_type": "stream",
     "text": [
      "String contains [FILE]\n",
      "String contains [EMAIL]\n"
     ]
    }
   ],
   "source": [
    "import re\n",
    "\n",
    "def check_for_file(s):\n",
    "    pattern = r'\\[FILE\\]'\n",
    "    if re.search(pattern, s):\n",
    "        return True\n",
    "    return False\n",
    "\n",
    "def check_for_email(s):\n",
    "    pattern = r'\\[EMAIL\\]'\n",
    "    if re.search(pattern, s):\n",
    "        return True\n",
    "    return False\n",
    "\n",
    "# Example usage:\n",
    "s = \"This is a string with [FILE] inside\"\n",
    "if check_for_file(s):\n",
    "    print(\"String contains [FILE]\")\n",
    "\n",
    "s = \"This is a string with [EMAIL] inside\"\n",
    "if check_for_email(s):\n",
    "    print(\"String contains [EMAIL]\")\n",
    "\n",
    "s = \"This is a string without [FILE] or [EMAIL]\"\n",
    "if not check_for_file(s) and not check_for_email(s):\n",
    "    print(\"String does not contain [FILE] or [EMAIL]\")"
   ]
  },
  {
   "cell_type": "code",
   "execution_count": 2,
   "metadata": {},
   "outputs": [],
   "source": [
    "import pandas as pd\n",
    "\n",
    "df = pd.read_csv('input/Sample Sales Data- Interns task - sales_data_sample.csv')"
   ]
  },
  {
   "cell_type": "code",
   "execution_count": 6,
   "metadata": {},
   "outputs": [
    {
     "data": {
      "text/plain": [
       "Index(['ORDERNUMBER', 'QUANTITYORDERED', 'PRICEEACH', 'ORDERLINENUMBER',\n",
       "       'SALES', 'ORDERDATE', 'STATUS', 'QTR_ID', 'MONTH_ID', 'YEAR_ID',\n",
       "       'PRODUCTLINE', 'MSRP', 'PRODUCTCODE', 'CUSTOMERNAME', 'PHONE',\n",
       "       'ADDRESSLINE1', 'ADDRESSLINE2', 'CITY', 'STATE', 'POSTALCODE',\n",
       "       'COUNTRY', 'TERRITORY', 'CONTACTLASTNAME', 'CONTACTFIRSTNAME',\n",
       "       'DEALSIZE'],\n",
       "      dtype='object')"
      ]
     },
     "execution_count": 6,
     "metadata": {},
     "output_type": "execute_result"
    }
   ],
   "source": [
    "df.columns"
   ]
  },
  {
   "cell_type": "code",
   "execution_count": 38,
   "metadata": {},
   "outputs": [
    {
     "data": {
      "text/plain": [
       "{'Medium': 392, 'Small': 147, 'Large': 86}"
      ]
     },
     "execution_count": 38,
     "metadata": {},
     "output_type": "execute_result"
    }
   ],
   "source": [
    "df.DEALSIZE.value_counts().to_dict()"
   ]
  },
  {
   "cell_type": "code",
   "execution_count": 19,
   "metadata": {},
   "outputs": [],
   "source": [
    "def custom_information_extraction(df):\n",
    "    '''This function is built on the columns of given spreadsheet'''\n",
    "    sum_QUANTITYORDERED = sum(df.QUANTITYORDERED)\n",
    "    mean_QUANTITYORDERED = df.QUANTITYORDERED.mean()\n",
    "    sum_PRICEEACH = sum(df.PRICEEACH)\n",
    "    mean_PRICEEACH  = df.PRICEEACH.mean()\n",
    "    sum_SALES = sum(df.SALES)\n",
    "    mean_SALES  = df.SALES.mean()\n",
    "    valCounts_STATUS = df.STATUS.value_counts().to_dict()\n",
    "    sorted_valCounts_MONTHID = df.MONTH_ID.value_counts().sort_index().to_dict()\n",
    "    sorted_valCounts_YEARID = df.YEAR_ID.value_counts().sort_index().to_dict()\n",
    "    valCounts_PRODUCTLINE = df.PRODUCTLINE.value_counts().to_dict()\n",
    "    valCounts_COUNTRY = df.COUNTRY.value_counts().to_dict()\n",
    "    valCounts_CITY = df.CITY.value_counts().to_dict()\n",
    "    valCounts_DEALSIZE = df.DEALSIZE.value_counts().to_dict()\n",
    "    \n"
   ]
  },
  {
   "cell_type": "code",
   "execution_count": 39,
   "metadata": {},
   "outputs": [
    {
     "ename": "",
     "evalue": "",
     "output_type": "error",
     "traceback": [
      "\u001b[1;31mThe Kernel crashed while executing code in the current cell or a previous cell. \n",
      "\u001b[1;31mPlease review the code in the cell(s) to identify a possible cause of the failure. \n",
      "\u001b[1;31mClick <a href='https://aka.ms/vscodeJupyterKernelCrash'>here</a> for more info. \n",
      "\u001b[1;31mView Jupyter <a href='command:jupyter.viewOutput'>log</a> for further details."
     ]
    }
   ],
   "source": [
    "def custom_information_extraction(df):\n",
    "    '''This function is built on the columns of given spreadsheet'''\n",
    "    return {\n",
    "    'sum_QUANTITYORDERED' : sum(df.QUANTITYORDERED),\n",
    "    'mean_QUANTITYORDERED' : df.QUANTITYORDERED.mean(),\n",
    "    'sum_PRICEEACH' : sum(df.PRICEEACH),\n",
    "    'mean_PRICEEACH'  : df.PRICEEACH.mean(),\n",
    "    'sum_SALES' :sum(df.SALES),\n",
    "    'mean_SALES'  :df.SALES.mean(),\n",
    "    'valCounts_STATUS' : df.STATUS.value_counts().to_dict(),\n",
    "    'sorted_valCounts_MONTHID' : df.MONTH_ID.value_counts().sort_index().to_dict(),\n",
    "    'sorted_valCounts_YEARID' : df.YEAR_ID.value_counts().sort_index().to_dict(),\n",
    "    'valCounts_PRODUCTLINE' : df.PRODUCTLINE.value_counts().to_dict(),\n",
    "    'valCounts_COUNTRY' : df.COUNTRY.value_counts().to_dict(),\n",
    "    'valCounts_CITY' : df.CITY.value_counts().to_dict(),\n",
    "    'valCounts_DEALSIZE' : df.DEALSIZE.value_counts().to_dict(),\n",
    "    }"
   ]
  },
  {
   "cell_type": "code",
   "execution_count": 8,
   "metadata": {},
   "outputs": [
    {
     "name": "stdout",
     "output_type": "stream",
     "text": [
      "22:24\n"
     ]
    }
   ],
   "source": [
    "current_time = time.strftime(\"%H:%M\")\n",
    "print(current_time)\n"
   ]
  },
  {
   "cell_type": "code",
   "execution_count": 16,
   "metadata": {},
   "outputs": [
    {
     "name": "stdout",
     "output_type": "stream",
     "text": [
      "<re.Match object; span=(24, 36), match='[TIME-02:30]'>\n",
      "02:30\n"
     ]
    }
   ],
   "source": [
    "import re\n",
    "\n",
    "string = \"This is a random string [TIME-02:30] with some extra text\"\n",
    "\n",
    "pattern = r'\\[TIME-(\\d{2}:\\d{2})\\]'  # matches [TIME-xx:xx] pattern\n",
    "match = re.search(pattern, string)\n",
    "print(match)\n",
    "if match:\n",
    "    time = match.group(1)  # extract the time string\n",
    "    print(time)  # output: 22:30"
   ]
  },
  {
   "cell_type": "code",
   "execution_count": 19,
   "metadata": {},
   "outputs": [
    {
     "ename": "TypeError",
     "evalue": "can only concatenate str (not \"int\") to str",
     "output_type": "error",
     "traceback": [
      "\u001b[0;31m---------------------------------------------------------------------------\u001b[0m",
      "\u001b[0;31mTypeError\u001b[0m                                 Traceback (most recent call last)",
      "Cell \u001b[0;32mIn[19], line 2\u001b[0m\n\u001b[1;32m      1\u001b[0m \u001b[38;5;28;01mimport\u001b[39;00m \u001b[38;5;21;01mtime\u001b[39;00m\n\u001b[0;32m----> 2\u001b[0m \u001b[43mtime\u001b[49m\u001b[38;5;241;43m.\u001b[39;49m\u001b[43mstrftime\u001b[49m\u001b[43m(\u001b[49m\u001b[38;5;124;43m\"\u001b[39;49m\u001b[38;5;124;43m%\u001b[39;49m\u001b[38;5;124;43mH:\u001b[39;49m\u001b[38;5;124;43m%\u001b[39;49m\u001b[38;5;124;43mM\u001b[39;49m\u001b[38;5;124;43m\"\u001b[39;49m\u001b[43m)\u001b[49m\u001b[43m \u001b[49m\u001b[38;5;241;43m+\u001b[39;49m\u001b[43m \u001b[49m\u001b[38;5;241;43m1\u001b[39;49m\n",
      "\u001b[0;31mTypeError\u001b[0m: can only concatenate str (not \"int\") to str"
     ]
    }
   ],
   "source": [
    "import time\n",
    "time.strftime(\"%H:%M\")"
   ]
  },
  {
   "cell_type": "code",
   "execution_count": 1,
   "metadata": {},
   "outputs": [
    {
     "ename": "AttributeError",
     "evalue": "'time.struct_time' object has no attribute 'replace'",
     "output_type": "error",
     "traceback": [
      "\u001b[0;31m---------------------------------------------------------------------------\u001b[0m",
      "\u001b[0;31mAttributeError\u001b[0m                            Traceback (most recent call last)",
      "Cell \u001b[0;32mIn[1], line 10\u001b[0m\n\u001b[1;32m      7\u001b[0m dt \u001b[38;5;241m=\u001b[39m time\u001b[38;5;241m.\u001b[39mstrptime(current_time, \u001b[38;5;124m\"\u001b[39m\u001b[38;5;124m%\u001b[39m\u001b[38;5;124mH:\u001b[39m\u001b[38;5;124m%\u001b[39m\u001b[38;5;124mM\u001b[39m\u001b[38;5;124m\"\u001b[39m)\n\u001b[1;32m      9\u001b[0m \u001b[38;5;66;03m# Add one minute to the datetime object\u001b[39;00m\n\u001b[0;32m---> 10\u001b[0m dt \u001b[38;5;241m=\u001b[39m \u001b[43mdt\u001b[49m\u001b[38;5;241;43m.\u001b[39;49m\u001b[43mreplace\u001b[49m(minute\u001b[38;5;241m=\u001b[39m(dt\u001b[38;5;241m.\u001b[39mminute \u001b[38;5;241m+\u001b[39m \u001b[38;5;241m1\u001b[39m) \u001b[38;5;241m%\u001b[39m \u001b[38;5;241m60\u001b[39m)\n\u001b[1;32m     12\u001b[0m \u001b[38;5;66;03m# Convert the datetime object back to a string\u001b[39;00m\n\u001b[1;32m     13\u001b[0m new_time \u001b[38;5;241m=\u001b[39m time\u001b[38;5;241m.\u001b[39mstrftime(\u001b[38;5;124m\"\u001b[39m\u001b[38;5;124m%\u001b[39m\u001b[38;5;124mH:\u001b[39m\u001b[38;5;124m%\u001b[39m\u001b[38;5;124mM\u001b[39m\u001b[38;5;124m\"\u001b[39m, dt)\n",
      "\u001b[0;31mAttributeError\u001b[0m: 'time.struct_time' object has no attribute 'replace'"
     ]
    }
   ],
   "source": [
    "import time\n",
    "\n",
    "# Get the current time\n",
    "current_time = time.strftime(\"%H:%M\")\n",
    "\n",
    "# Convert the current time to a datetime object\n",
    "dt = time.strptime(current_time, \"%H:%M\")\n",
    "\n",
    "# Add one minute to the datetime object\n",
    "dt = dt.replace(minute=(dt.minute + 1) % 60)\n",
    "\n",
    "# Convert the datetime object back to a string\n",
    "new_time = time.strftime(\"%H:%M\", dt)\n",
    "\n",
    "print(new_time)"
   ]
  },
  {
   "cell_type": "code",
   "execution_count": 3,
   "metadata": {},
   "outputs": [
    {
     "name": "stdout",
     "output_type": "stream",
     "text": [
      "22:44\n"
     ]
    }
   ],
   "source": [
    "import time\n",
    "import datetime\n",
    "\n",
    "# Get the current time\n",
    "current_time = time.strftime(\"%H:%M\")\n",
    "\n",
    "# Convert the current time to a datetime object\n",
    "dt = datetime.datetime.strptime(current_time, \"%H:%M\")\n",
    "\n",
    "# Add one minute to the datetime object\n",
    "dt = dt + datetime.timedelta(minutes=1)\n",
    "\n",
    "# Convert the datetime object back to a string\n",
    "new_time = dt.strftime(\"%H:%M\")\n",
    "\n",
    "print(new_time)"
   ]
  },
  {
   "cell_type": "code",
   "execution_count": 5,
   "metadata": {},
   "outputs": [
    {
     "data": {
      "text/plain": [
       "datetime.datetime(1900, 1, 1, 22, 44)"
      ]
     },
     "execution_count": 5,
     "metadata": {},
     "output_type": "execute_result"
    }
   ],
   "source": [
    "datetime.datetime.strptime(current_time, \"%H:%M\")+ datetime.timedelta(minutes=1)"
   ]
  },
  {
   "cell_type": "code",
   "execution_count": 19,
   "metadata": {},
   "outputs": [
    {
     "name": "stdout",
     "output_type": "stream",
     "text": [
      "22:45:48.486126\n"
     ]
    },
    {
     "ename": "TypeError",
     "evalue": "unsupported operand type(s) for +: 'datetime.time' and 'datetime.timedelta'",
     "output_type": "error",
     "traceback": [
      "\u001b[0;31m---------------------------------------------------------------------------\u001b[0m",
      "\u001b[0;31mTypeError\u001b[0m                                 Traceback (most recent call last)",
      "Cell \u001b[0;32mIn[19], line 7\u001b[0m\n\u001b[1;32m      5\u001b[0m \u001b[38;5;28mprint\u001b[39m(current_time)\n\u001b[1;32m      6\u001b[0m \u001b[38;5;66;03m# Add one minute to the current time\u001b[39;00m\n\u001b[0;32m----> 7\u001b[0m dt \u001b[38;5;241m=\u001b[39m \u001b[43mcurrent_time\u001b[49m\u001b[43m \u001b[49m\u001b[38;5;241;43m+\u001b[39;49m\u001b[43m \u001b[49m\u001b[43mdatetime\u001b[49m\u001b[38;5;241;43m.\u001b[39;49m\u001b[43mtimedelta\u001b[49m\u001b[43m(\u001b[49m\u001b[43mminutes\u001b[49m\u001b[38;5;241;43m=\u001b[39;49m\u001b[38;5;241;43m1\u001b[39;49m\u001b[43m)\u001b[49m\n\u001b[1;32m      8\u001b[0m \u001b[38;5;28mprint\u001b[39m(dt)\n\u001b[1;32m      9\u001b[0m \u001b[38;5;66;03m# Convert the datetime object back to a time object\u001b[39;00m\n",
      "\u001b[0;31mTypeError\u001b[0m: unsupported operand type(s) for +: 'datetime.time' and 'datetime.timedelta'"
     ]
    }
   ],
   "source": [
    "import datetime\n",
    "\n",
    "# Get the current time\n",
    "current_time = datetime.datetime.now().time()\n",
    "print(current_time)\n",
    "# Add one minute to the current time\n",
    "dt = current_time + datetime.timedelta(minutes=1)\n",
    "print(dt)\n",
    "# Convert the datetime object back to a time object\n",
    "new_time = dt\n",
    "\n",
    "print(new_time)"
   ]
  },
  {
   "cell_type": "code",
   "execution_count": 9,
   "metadata": {},
   "outputs": [
    {
     "name": "stdout",
     "output_type": "stream",
     "text": [
      "22:48\n"
     ]
    }
   ],
   "source": [
    "import datetime\n",
    "\n",
    "# Get the current time\n",
    "current_time = datetime.datetime.now()  + datetime.timedelta(minutes=1)\n",
    "\n",
    "print(current_time.strftime(\"%H:%M\"))"
   ]
  }
 ],
 "metadata": {
  "kernelspec": {
   "display_name": "AI_ENV",
   "language": "python",
   "name": "python3"
  },
  "language_info": {
   "codemirror_mode": {
    "name": "ipython",
    "version": 3
   },
   "file_extension": ".py",
   "mimetype": "text/x-python",
   "name": "python",
   "nbconvert_exporter": "python",
   "pygments_lexer": "ipython3",
   "version": "3.10.12"
  }
 },
 "nbformat": 4,
 "nbformat_minor": 2
}
